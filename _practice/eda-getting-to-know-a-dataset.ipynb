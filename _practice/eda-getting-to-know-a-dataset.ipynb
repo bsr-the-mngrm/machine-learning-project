{
 "cells": [
  {
   "cell_type": "markdown",
   "id": "667ef134-a29a-414e-9305-55043d974a69",
   "metadata": {},
   "source": [
    "# Getting to know a dataset"
   ]
  },
  {
   "cell_type": "markdown",
   "id": "8f97458c-4ddb-4ff9-8934-fcb76c1cbd42",
   "metadata": {},
   "source": [
    "## Initial exploration"
   ]
  },
  {
   "cell_type": "code",
   "execution_count": null,
   "id": "df940ca7-8edb-4d67-b9e4-a89bc20ca6c1",
   "metadata": {},
   "outputs": [],
   "source": [
    "books.head()"
   ]
  },
  {
   "cell_type": "code",
   "execution_count": null,
   "id": "7c4d2772-cff5-44b9-8c9e-6f709668ddb0",
   "metadata": {},
   "outputs": [],
   "source": [
    "books.info()"
   ]
  },
  {
   "cell_type": "code",
   "execution_count": null,
   "id": "00640bf8-9109-4421-86aa-60cae2c2ab19",
   "metadata": {},
   "outputs": [],
   "source": [
    "books.value_counts('genre')"
   ]
  },
  {
   "cell_type": "code",
   "execution_count": null,
   "id": "2e8d4635-9953-4cd3-a958-03e334d53f04",
   "metadata": {},
   "outputs": [],
   "source": [
    "books.describe()"
   ]
  },
  {
   "cell_type": "code",
   "execution_count": null,
   "id": "c0fdd7a5-9fe4-4296-a283-c5dc24b3b76b",
   "metadata": {},
   "outputs": [],
   "source": [
    "import seaborn as sns\n",
    "import matplotlib.pyplot as plt\n",
    "sns.histplot(data=books, x=\"rating\", binwidth=.1)\n",
    "# sns.histplot(data=books, x=\"rating\", binwidth=1)\n",
    "plt.show()"
   ]
  },
  {
   "cell_type": "markdown",
   "id": "c310d217-d807-4228-913f-4ad3f81265f6",
   "metadata": {},
   "source": [
    "## Data validation"
   ]
  },
  {
   "cell_type": "code",
   "execution_count": null,
   "id": "40835fb5-e4dc-4873-a8bb-5a5f958cf68a",
   "metadata": {},
   "outputs": [],
   "source": [
    "books.dtypes"
   ]
  },
  {
   "cell_type": "code",
   "execution_count": null,
   "id": "6694690f-5f37-46ae-84c6-4d7e1511f0e0",
   "metadata": {},
   "outputs": [],
   "source": [
    "books['year'] = books['year'].astype(int)"
   ]
  },
  {
   "cell_type": "code",
   "execution_count": null,
   "id": "bbbb390a-ae79-45a1-bad1-41bb06af2ca5",
   "metadata": {},
   "outputs": [],
   "source": [
    "books['genre'].isin(['Fiction', 'Non Fiction'])"
   ]
  },
  {
   "cell_type": "code",
   "execution_count": null,
   "id": "49526088-55ca-4034-8307-0c7cfbe16600",
   "metadata": {},
   "outputs": [],
   "source": [
    "# invert True/False values\n",
    "~books['genre'].isin(['Fiction', 'Non Fiction'])"
   ]
  },
  {
   "cell_type": "code",
   "execution_count": null,
   "id": "1f3b169f-2d94-48b7-8ad9-0bd25afa95d7",
   "metadata": {},
   "outputs": [],
   "source": [
    "books[books['genre'].isin(['Fiction', 'Non Fiction'])].head()"
   ]
  },
  {
   "cell_type": "code",
   "execution_count": null,
   "id": "bc26eeb3-72d4-4b0a-b762-5471ac324916",
   "metadata": {},
   "outputs": [],
   "source": [
    "books.select_dtypes(\"number\").head()"
   ]
  },
  {
   "cell_type": "code",
   "execution_count": null,
   "id": "35d6565f-3471-425d-a727-1ed5a657c317",
   "metadata": {},
   "outputs": [],
   "source": [
    "books['year'].min()\n",
    "books['year'].max()\n",
    "\n",
    "sns.boxplot(data=books, x='year')\n",
    "plt.show()"
   ]
  },
  {
   "cell_type": "markdown",
   "id": "ad45c464-27a5-45d5-aadd-492e514a0551",
   "metadata": {},
   "source": [
    "sns.boxplot(data=books, x='year', y='genre')"
   ]
  },
  {
   "cell_type": "code",
   "execution_count": null,
   "id": "6fcec135-5259-44bd-a758-94e54bf8a056",
   "metadata": {},
   "outputs": [],
   "source": []
  }
 ],
 "metadata": {
  "kernelspec": {
   "display_name": "Python 3 (ipykernel)",
   "language": "python",
   "name": "python3"
  },
  "language_info": {
   "codemirror_mode": {
    "name": "ipython",
    "version": 3
   },
   "file_extension": ".py",
   "mimetype": "text/x-python",
   "name": "python",
   "nbconvert_exporter": "python",
   "pygments_lexer": "ipython3",
   "version": "3.11.5"
  }
 },
 "nbformat": 4,
 "nbformat_minor": 5
}
