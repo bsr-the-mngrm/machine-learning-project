{
 "cells": [
  {
   "cell_type": "markdown",
   "id": "97b745d5-175e-452e-b250-fc146027d95a",
   "metadata": {},
   "source": [
    "# Undergraduate students' dropout and success"
   ]
  },
  {
   "cell_type": "markdown",
   "id": "43d09efa-3e6e-4f72-911e-6182bfc00112",
   "metadata": {},
   "source": [
    "## Data exploration"
   ]
  },
  {
   "cell_type": "code",
   "execution_count": null,
   "id": "1322819d-a7bc-4f07-bed0-314dd4bf24e1",
   "metadata": {
    "tags": []
   },
   "outputs": [],
   "source": [
    "import pandas as pd\n",
    "import seaborn as sns\n",
    "import matplotlib.pyplot as plt\n",
    "from ucimlrepo import fetch_ucirepo "
   ]
  },
  {
   "cell_type": "code",
   "execution_count": null,
   "id": "4d280d6c-9d3b-4a86-80f8-0951bbb681b3",
   "metadata": {
    "tags": []
   },
   "outputs": [],
   "source": [
    "# fetch dataset \n",
    "predict_students_dropout_and_academic_success = fetch_ucirepo(id=697) \n",
    "  \n",
    "# data (as pandas dataframes) \n",
    "X = predict_students_dropout_and_academic_success.data.features \n",
    "y = predict_students_dropout_and_academic_success.data.targets \n",
    "  \n",
    "# metadata \n",
    "print(predict_students_dropout_and_academic_success.metadata) \n",
    "  \n",
    "# variable information \n",
    "print(predict_students_dropout_and_academic_success.variables) "
   ]
  },
  {
   "cell_type": "code",
   "execution_count": null,
   "id": "a51c4562-4456-4938-a603-667250d3ecf2",
   "metadata": {},
   "outputs": [],
   "source": [
    "students = pd.concat([X, y], axis=1)\n",
    "students"
   ]
  },
  {
   "cell_type": "code",
   "execution_count": null,
   "id": "a816b35e-b1bf-414f-99d1-8d33bb9a84e9",
   "metadata": {
    "tags": []
   },
   "outputs": [],
   "source": [
    "students.info()"
   ]
  },
  {
   "cell_type": "code",
   "execution_count": null,
   "id": "dfb02935-d2b7-451a-bc6f-ccb13c2781d8",
   "metadata": {
    "tags": []
   },
   "outputs": [],
   "source": [
    "students.describe()"
   ]
  },
  {
   "cell_type": "code",
   "execution_count": null,
   "id": "0aefa06c-c9f8-416b-81fc-349a73f1930d",
   "metadata": {
    "tags": []
   },
   "outputs": [],
   "source": [
    "sns.histplot(data=students, x='Target')\n",
    "plt.show()"
   ]
  },
  {
   "cell_type": "code",
   "execution_count": null,
   "id": "661c3729-a728-4420-81a0-269fe012e28e",
   "metadata": {
    "tags": []
   },
   "outputs": [],
   "source": [
    "sns.barplot(data=students, x='Age at enrollment', y='Target')"
   ]
  },
  {
   "cell_type": "code",
   "execution_count": null,
   "id": "1dcd2982-a8ab-4ddf-9e82-236f4f4605d9",
   "metadata": {
    "tags": []
   },
   "outputs": [],
   "source": [
    "X.info()"
   ]
  },
  {
   "cell_type": "code",
   "execution_count": null,
   "id": "bdf99002-9bb5-4e07-ac4b-a676f06a6939",
   "metadata": {},
   "outputs": [],
   "source": []
  }
 ],
 "metadata": {
  "kernelspec": {
   "display_name": "Python 3 (ipykernel)",
   "language": "python",
   "name": "python3"
  },
  "language_info": {
   "codemirror_mode": {
    "name": "ipython",
    "version": 3
   },
   "file_extension": ".py",
   "mimetype": "text/x-python",
   "name": "python",
   "nbconvert_exporter": "python",
   "pygments_lexer": "ipython3",
   "version": "3.11.5"
  }
 },
 "nbformat": 4,
 "nbformat_minor": 5
}
