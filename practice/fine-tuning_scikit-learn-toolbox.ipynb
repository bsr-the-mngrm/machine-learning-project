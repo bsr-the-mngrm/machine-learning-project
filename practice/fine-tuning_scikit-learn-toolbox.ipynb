{
 "cells": [
  {
   "cell_type": "markdown",
   "id": "3c95be30-1abb-4461-9e63-f89ce85f8930",
   "metadata": {},
   "source": [
    "# Fine-Tuning Your Model"
   ]
  },
  {
   "cell_type": "markdown",
   "id": "472ae9d3-c179-4455-8bc7-eba3bf701137",
   "metadata": {},
   "source": [
    "## How good good is your model?"
   ]
  },
  {
   "cell_type": "markdown",
   "id": "b00c6112-2ed3-497d-90bc-f7b8516a2e34",
   "metadata": {},
   "source": [
    "### Assessing a diabetes prediction classifier\n",
    "metrics: accuracy, precision, recall, F1-score"
   ]
  },
  {
   "cell_type": "code",
   "execution_count": null,
   "id": "316bea64-b6f8-4122-813c-4fed4f3c81e4",
   "metadata": {},
   "outputs": [],
   "source": [
    "# Import confusion matrix\n",
    "from sklearn.metrics import confusion_matrix, classification_report\n",
    "\n",
    "knn = KNeighborsClassifier(n_neighbors=6)\n",
    "\n",
    "# Fit the model to the training data\n",
    "knn.fit(X_train, y_train)\n",
    "\n",
    "# Predict the labels of the test data: y_pred\n",
    "y_pred = knn.predict(X_test)\n",
    "\n",
    "# Generate the confusion matrix and classification report\n",
    "print(confusion_matrix(y_test, y_pred))\n",
    "print(classification_report(y_test, y_pred))"
   ]
  },
  {
   "cell_type": "markdown",
   "id": "d6b71f04-44b0-4b06-b833-afbc8a32b6af",
   "metadata": {},
   "source": []
  },
  {
   "cell_type": "code",
   "execution_count": null,
   "id": "f9b1e133-212e-423d-b0e3-c35853fca59a",
   "metadata": {},
   "outputs": [],
   "source": []
  }
 ],
 "metadata": {
  "kernelspec": {
   "display_name": "Python 3 (ipykernel)",
   "language": "python",
   "name": "python3"
  },
  "language_info": {
   "codemirror_mode": {
    "name": "ipython",
    "version": 3
   },
   "file_extension": ".py",
   "mimetype": "text/x-python",
   "name": "python",
   "nbconvert_exporter": "python",
   "pygments_lexer": "ipython3",
   "version": "3.11.5"
  }
 },
 "nbformat": 4,
 "nbformat_minor": 5
}
