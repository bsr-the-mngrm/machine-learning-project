{
 "cells": [
  {
   "cell_type": "markdown",
   "id": "6bec1a5d-89c2-4e97-9fd7-e823ee5ded86",
   "metadata": {},
   "source": [
    "### The supervised learning workflow"
   ]
  },
  {
   "cell_type": "code",
   "execution_count": null,
   "id": "a8a13d02-3e56-4520-a19e-79d58e13761b",
   "metadata": {},
   "outputs": [],
   "source": [
    "from sklearn.module import Model\n",
    "model = Model()\n",
    "model.fit(X, y)\n",
    "model.predict(X_new)"
   ]
  }
 ],
 "metadata": {
  "kernelspec": {
   "display_name": "Python 3 (ipykernel)",
   "language": "python",
   "name": "python3"
  },
  "language_info": {
   "codemirror_mode": {
    "name": "ipython",
    "version": 3
   },
   "file_extension": ".py",
   "mimetype": "text/x-python",
   "name": "python",
   "nbconvert_exporter": "python",
   "pygments_lexer": "ipython3",
   "version": "3.11.5"
  }
 },
 "nbformat": 4,
 "nbformat_minor": 5
}
