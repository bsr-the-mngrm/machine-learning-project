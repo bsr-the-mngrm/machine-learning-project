{
 "cells": [
  {
   "cell_type": "markdown",
   "id": "6bec1a5d-89c2-4e97-9fd7-e823ee5ded86",
   "metadata": {},
   "source": [
    "### The supervised learning workflow"
   ]
  },
  {
   "cell_type": "code",
   "execution_count": null,
   "id": "a8a13d02-3e56-4520-a19e-79d58e13761b",
   "metadata": {},
   "outputs": [],
   "source": [
    "from sklearn.module import Model\n",
    "model = Model()\n",
    "model.fit(X, y)\n",
    "model.predict(X_new)"
   ]
  },
  {
   "cell_type": "markdown",
   "id": "c00d7f2e-383e-4543-9ab2-c9015f0dbf43",
   "metadata": {},
   "source": [
    "### Using scikit-learn to fit a classifier"
   ]
  },
  {
   "cell_type": "code",
   "execution_count": null,
   "id": "8babeb08-c4f0-4ed0-b4e7-2b2ed4fe9deb",
   "metadata": {},
   "outputs": [],
   "source": [
    "from sklearn.neighbors import KNeighborsClassifier\n",
    "X = churn_df[[\"total_day_charge\", \"total_eve_charge\"]].values\n",
    "y = churn_df[\"churn\"].values\n",
    "print(X.shape, y.shape)"
   ]
  },
  {
   "cell_type": "code",
   "execution_count": null,
   "id": "72a980ce-e1c9-47dc-b89a-5c6cdca8c19e",
   "metadata": {},
   "outputs": [],
   "source": [
    "knn = KNeighborsClassifier(n_neighbors = 15)\n",
    "knn.fit(X, y)"
   ]
  },
  {
   "cell_type": "code",
   "execution_count": null,
   "id": "e115dc5a-d64a-4d8f-8942-001d73224800",
   "metadata": {
    "tags": []
   },
   "outputs": [],
   "source": [
    "import numpy as np\n",
    "X_new = np.array([[56.8, 17.5],\n",
    "                  [24.4, 24.1],\n",
    "                  [50.1, 10.9]])\n",
    "\n",
    "print(X_new.shape)"
   ]
  },
  {
   "cell_type": "code",
   "execution_count": null,
   "id": "ad67a083-35bc-41a0-b8c5-b7dba69a8ff3",
   "metadata": {},
   "outputs": [],
   "source": [
    "predictions = knn.predict(X_new)\n",
    "print('Predictions: {}'.format(predictions))"
   ]
  },
  {
   "cell_type": "markdown",
   "id": "051f121b-b2c9-4e5e-9dc7-4d77f726e2b4",
   "metadata": {},
   "source": [
    "### Train/test split"
   ]
  },
  {
   "cell_type": "code",
   "execution_count": null,
   "id": "c00d047a-f60f-4222-9617-a3d696af3f7c",
   "metadata": {},
   "outputs": [],
   "source": [
    "from sklearn.model_selection import train_test_split\n",
    "X_train, X_test, y_train, y_test = train_test_split(X, y, test_size=0.3, random_state=21, stratify=y)\n",
    "\n",
    "knn = KNeighborsClassifier(n_neighbors=6)\n",
    "knn.fit(X_train, y_train)\n",
    "print(knn.score(X_test, y_test)"
   ]
  }
 ],
 "metadata": {
  "kernelspec": {
   "display_name": "Python 3 (ipykernel)",
   "language": "python",
   "name": "python3"
  },
  "language_info": {
   "codemirror_mode": {
    "name": "ipython",
    "version": 3
   },
   "file_extension": ".py",
   "mimetype": "text/x-python",
   "name": "python",
   "nbconvert_exporter": "python",
   "pygments_lexer": "ipython3",
   "version": "3.11.5"
  }
 },
 "nbformat": 4,
 "nbformat_minor": 5
}
