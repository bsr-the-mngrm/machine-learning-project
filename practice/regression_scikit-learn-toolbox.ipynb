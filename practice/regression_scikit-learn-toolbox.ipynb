{
 "cells": [
  {
   "cell_type": "markdown",
   "id": "10ac7950-4105-48b4-bfd1-0b5b5f2ce7b7",
   "metadata": {
    "tags": []
   },
   "source": [
    "## Introduction to regression"
   ]
  },
  {
   "cell_type": "markdown",
   "id": "a3abfe03-0414-48a9-a919-c4bf968f17b7",
   "metadata": {
    "tags": []
   },
   "source": [
    "### Creating feature and target arrays"
   ]
  },
  {
   "cell_type": "code",
   "execution_count": null,
   "id": "af60608b-fab5-48a7-a91f-000cdd044f59",
   "metadata": {},
   "outputs": [],
   "source": [
    "X = diabetes_df.drop(\"glucose\", axis=1).values\n",
    "y = diabetes_df[\"glucose\"].values\n",
    "print(type(X), type(y))"
   ]
  },
  {
   "cell_type": "markdown",
   "id": "1e117bb6-0d80-412b-95e3-768c4fcbe348",
   "metadata": {},
   "source": [
    "### Making predictions from a single feature"
   ]
  },
  {
   "cell_type": "code",
   "execution_count": null,
   "id": "74a0cb49-817b-4a22-92f3-dcb400196bf6",
   "metadata": {},
   "outputs": [],
   "source": [
    "X_bmi = X[:3]\n",
    "print(y.shape, X_bmi.shape)"
   ]
  },
  {
   "cell_type": "code",
   "execution_count": null,
   "id": "7ee9e6e6-a43a-4609-97fa-6183a1c3844c",
   "metadata": {},
   "outputs": [],
   "source": [
    "X_bmi = X_bmi.reshape(-1, 1)\n",
    "print(X_bmi.shape)"
   ]
  },
  {
   "cell_type": "markdown",
   "id": "3507f108-feaa-4a87-9861-fdf0fe40f30c",
   "metadata": {
    "tags": []
   },
   "source": [
    "### Plotting glucose vs. body mass index"
   ]
  },
  {
   "cell_type": "code",
   "execution_count": null,
   "id": "5404b95d-b213-431e-b7df-143f5d46ce7d",
   "metadata": {},
   "outputs": [],
   "source": [
    "import matplotlib.pyplot as plt\n",
    "plt.scatter(X_bmi, y)\n",
    "plt.ylabel(\"Blood Glucose (mg/dl)\")\n",
    "plt.xlabel(\"Body Mass Index\")\n",
    "plt.show()"
   ]
  },
  {
   "cell_type": "markdown",
   "id": "dabe4b25-1977-424a-b11a-c9ebb47632e2",
   "metadata": {},
   "source": [
    "### Fitting a regression model"
   ]
  },
  {
   "cell_type": "code",
   "execution_count": null,
   "id": "580e5406-c1e2-455a-87dc-fcc364ed42f1",
   "metadata": {
    "tags": []
   },
   "outputs": [],
   "source": [
    "from sklearn.linear_model import LinearRegression\n",
    "reg = LinearRegression()\n",
    "reg.fit(X_bmi, y)\n",
    "predictions = reg.predict(X_bmi)\n",
    "plt.scatter(X_bmi, y)\n",
    "plt.plot(X_bmi, predictions)\n",
    "plt.ylabel(\"Blood Glucose (mg/dl)\")\n",
    "plt.xlabel(\"Body Mass Index\")\n",
    "plt.show()"
   ]
  },
  {
   "cell_type": "markdown",
   "id": "f2a7b0a1-d324-48d7-8b3b-4bd375d88361",
   "metadata": {},
   "source": [
    "## The basics of linear regression"
   ]
  },
  {
   "cell_type": "markdown",
   "id": "08e9da3c-1924-40cd-bfb1-4a5a84b58753",
   "metadata": {},
   "source": [
    "### Fit and predict regression"
   ]
  },
  {
   "cell_type": "code",
   "execution_count": null,
   "id": "cca57b23-abb8-4fc2-a808-f87cf36a2bc7",
   "metadata": {},
   "outputs": [],
   "source": [
    "# Create X and y arrays\n",
    "X = sales_df.drop(\"sales\", axis=1).values\n",
    "y = sales_df[\"sales\"].values\n",
    "\n",
    "X_train, X_test, y_train, y_test = train_test_split(X, y, test_size=0.3, random_state=42)\n",
    "\n",
    "# Instantiate the model\n",
    "reg = LinearRegression()\n",
    "\n",
    "# Fit the model to the data\n",
    "reg.fit(X_train,y_train)\n",
    "\n",
    "# Make predictions\n",
    "y_pred = reg.predict(X_test)\n",
    "print(\"Predictions: {}, Actual Values: {}\".format(y_pred[:2], y_test[:2]))"
   ]
  },
  {
   "cell_type": "markdown",
   "id": "ff4c831d-f1db-4803-a6b6-d32a0724fa7f",
   "metadata": {},
   "source": [
    "### Regression performance"
   ]
  },
  {
   "cell_type": "code",
   "execution_count": null,
   "id": "4794928c-509a-4449-8d26-c9c01a1ba9aa",
   "metadata": {},
   "outputs": [],
   "source": [
    "# Import mean_squared_error\n",
    "from sklearn.metrics import mean_squared_error\n",
    "\n",
    "# Compute R-squared\n",
    "r_squared = reg.score(X_test, y_test)\n",
    "\n",
    "# Compute RMSE\n",
    "rmse = mean_squared_error(y_test, y_pred, squared=False)\n",
    "\n",
    "# Print the metrics\n",
    "print(\"R^2: {}\".format(r_squared))\n",
    "print(\"RMSE: {}\".format(rmse))"
   ]
  },
  {
   "cell_type": "markdown",
   "id": "39d8b669-85d2-493a-b27a-c83b5743bd1b",
   "metadata": {},
   "source": [
    "## Cross-validation"
   ]
  },
  {
   "cell_type": "markdown",
   "id": "4d9c6922-9a3d-4f6b-9e1c-c1b80689e12d",
   "metadata": {},
   "source": [
    "### Cross-validation for R-squared"
   ]
  },
  {
   "cell_type": "code",
   "execution_count": null,
   "id": "ed138276-e756-49d9-b09b-28a9a9c25588",
   "metadata": {},
   "outputs": [],
   "source": [
    "# Import the necessary modules\n",
    "from sklearn.model_selection import KFold, cross_val_score\n",
    "\n",
    "# Create a KFold object\n",
    "kf = KFold(n_splits=6, shuffle=True, random_state=5)\n",
    "\n",
    "reg = LinearRegression()\n",
    "\n",
    "# Compute 6-fold cross-validation scores\n",
    "cv_scores = cross_val_score(reg, X, y, cv=kf)\n",
    "\n",
    "print(cv_scores)"
   ]
  },
  {
   "cell_type": "markdown",
   "id": "4cf02cb4-85ae-43f2-8f5e-ac831695a179",
   "metadata": {},
   "source": [
    "### Analyzing cross-validation metrics"
   ]
  },
  {
   "cell_type": "code",
   "execution_count": null,
   "id": "2af83527-4254-4ce0-82a5-e6a126379109",
   "metadata": {},
   "outputs": [],
   "source": []
  }
 ],
 "metadata": {
  "kernelspec": {
   "display_name": "Python 3 (ipykernel)",
   "language": "python",
   "name": "python3"
  },
  "language_info": {
   "codemirror_mode": {
    "name": "ipython",
    "version": 3
   },
   "file_extension": ".py",
   "mimetype": "text/x-python",
   "name": "python",
   "nbconvert_exporter": "python",
   "pygments_lexer": "ipython3",
   "version": "3.11.5"
  }
 },
 "nbformat": 4,
 "nbformat_minor": 5
}
