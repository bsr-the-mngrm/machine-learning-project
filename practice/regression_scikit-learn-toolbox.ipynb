{
 "cells": [
  {
   "cell_type": "markdown",
   "id": "10ac7950-4105-48b4-bfd1-0b5b5f2ce7b7",
   "metadata": {
    "tags": []
   },
   "source": [
    "## Introduction to regression"
   ]
  },
  {
   "cell_type": "markdown",
   "id": "a3abfe03-0414-48a9-a919-c4bf968f17b7",
   "metadata": {
    "tags": []
   },
   "source": [
    "### Creating feature and target arrays"
   ]
  },
  {
   "cell_type": "code",
   "execution_count": null,
   "id": "af60608b-fab5-48a7-a91f-000cdd044f59",
   "metadata": {},
   "outputs": [],
   "source": [
    "X = diabetes_df.drop(\"glucose\", axis=1).values\n",
    "y = diabetes_df[\"glucose\"].values\n",
    "print(type(X), type(y))"
   ]
  },
  {
   "cell_type": "markdown",
   "id": "1e117bb6-0d80-412b-95e3-768c4fcbe348",
   "metadata": {},
   "source": [
    "### Making predictions from a single feature"
   ]
  },
  {
   "cell_type": "code",
   "execution_count": null,
   "id": "74a0cb49-817b-4a22-92f3-dcb400196bf6",
   "metadata": {},
   "outputs": [],
   "source": [
    "X_bmi = X[:3]\n",
    "print(y.shape, X_bmi.shape)"
   ]
  },
  {
   "cell_type": "code",
   "execution_count": null,
   "id": "7ee9e6e6-a43a-4609-97fa-6183a1c3844c",
   "metadata": {},
   "outputs": [],
   "source": [
    "X_bmi = X_bmi.reshape(-1, 1)\n",
    "print(X_bmi.shape)"
   ]
  },
  {
   "cell_type": "markdown",
   "id": "3507f108-feaa-4a87-9861-fdf0fe40f30c",
   "metadata": {
    "tags": []
   },
   "source": [
    "### Plotting glucose vs. body mass index"
   ]
  },
  {
   "cell_type": "code",
   "execution_count": null,
   "id": "5404b95d-b213-431e-b7df-143f5d46ce7d",
   "metadata": {},
   "outputs": [],
   "source": [
    "import matplotlib.pyplot as plt\n",
    "plt.scatter(X_bmi, y)\n",
    "plt.ylabel(\"Blood Glucose (mg/dl)\")\n",
    "plt.xlabel(\"Body Mass Index\")\n",
    "plt.show()"
   ]
  },
  {
   "cell_type": "markdown",
   "id": "dabe4b25-1977-424a-b11a-c9ebb47632e2",
   "metadata": {},
   "source": [
    "### Fitting a regression model"
   ]
  },
  {
   "cell_type": "code",
   "execution_count": null,
   "id": "580e5406-c1e2-455a-87dc-fcc364ed42f1",
   "metadata": {
    "tags": []
   },
   "outputs": [],
   "source": [
    "from sklearn.linear_model import LinearRegression\n",
    "reg = LinearRegression()\n",
    "reg.fit(X_bmi, y)\n",
    "predictions = reg.predict(X_bmi)\n",
    "plt.scatter(X_bmi, y)\n",
    "plt.plot(X_bmi, predictions)\n",
    "plt.ylabel(\"Blood Glucose (mg/dl)\")\n",
    "plt.xlabel(\"Body Mass Index\")\n",
    "plt.show()"
   ]
  },
  {
   "cell_type": "code",
   "execution_count": null,
   "id": "ea781446-76db-4a54-9841-23623d278039",
   "metadata": {},
   "outputs": [],
   "source": []
  }
 ],
 "metadata": {
  "kernelspec": {
   "display_name": "Python 3 (ipykernel)",
   "language": "python",
   "name": "python3"
  },
  "language_info": {
   "codemirror_mode": {
    "name": "ipython",
    "version": 3
   },
   "file_extension": ".py",
   "mimetype": "text/x-python",
   "name": "python",
   "nbconvert_exporter": "python",
   "pygments_lexer": "ipython3",
   "version": "3.11.5"
  }
 },
 "nbformat": 4,
 "nbformat_minor": 5
}
